{
 "cells": [
  {
   "cell_type": "code",
   "execution_count": null,
   "id": "e288569e-bb33-49b3-b287-0209d533e084",
   "metadata": {},
   "outputs": [],
   "source": [
    "import pandas as pd\n",
    "import numpy as np"
   ]
  },
  {
   "cell_type": "code",
   "execution_count": null,
   "id": "487985e4-23c5-4f91-bcdb-ec15276a7953",
   "metadata": {},
   "outputs": [],
   "source": [
    "data = {\n",
    "    'Company': ['Acme Corp', 'Beta Inc', 'Gamma LLC', 'Delta Ltd', 'Epsilon GmbH'],\n",
    "    'Revenue': [5000000, 20000000, 12000000, 4000000, 25000000],  # in dollars\n",
    "    'Industry': ['Tech', 'Finance', 'Health', 'Retail', 'Tech'],\n",
    "    'Has_Email': [True, True, False, True, False],\n",
    "    'Has_Phone': [False, True, True, False, True]\n",
    "}\n",
    "\n",
    "df = pd.DataFrame(data)\n",
    "df\n"
   ]
  },
  {
   "cell_type": "code",
   "execution_count": null,
   "id": "9c1d12f6-c20e-495a-b31f-d003211746bf",
   "metadata": {},
   "outputs": [
    {
     "name": "stderr",
     "output_type": "stream",
     "text": [
      "2025-07-15 19:03:49.265 WARNING streamlit.runtime.scriptrunner_utils.script_run_context: Thread 'MainThread': missing ScriptRunContext! This warning can be ignored when running in bare mode.\n",
      "2025-07-15 19:03:52.919 \n",
      "  \u001b[33m\u001b[1mWarning:\u001b[0m to view this Streamlit app on a browser, run it with the following\n",
      "  command:\n",
      "\n",
      "    streamlit run d:\\Programming languages\\Web Development\\caprae-prework\\venv\\Lib\\site-packages\\ipykernel_launcher.py [ARGUMENTS]\n",
      "2025-07-15 19:03:52.920 Thread 'MainThread': missing ScriptRunContext! This warning can be ignored when running in bare mode.\n",
      "2025-07-15 19:03:52.921 Thread 'MainThread': missing ScriptRunContext! This warning can be ignored when running in bare mode.\n",
      "2025-07-15 19:03:52.922 Thread 'MainThread': missing ScriptRunContext! This warning can be ignored when running in bare mode.\n",
      "2025-07-15 19:03:52.923 Thread 'MainThread': missing ScriptRunContext! This warning can be ignored when running in bare mode.\n",
      "2025-07-15 19:03:52.924 Thread 'MainThread': missing ScriptRunContext! This warning can be ignored when running in bare mode.\n",
      "2025-07-15 19:03:52.925 Thread 'MainThread': missing ScriptRunContext! This warning can be ignored when running in bare mode.\n",
      "2025-07-15 19:03:52.926 Thread 'MainThread': missing ScriptRunContext! This warning can be ignored when running in bare mode.\n",
      "2025-07-15 19:03:52.927 Thread 'MainThread': missing ScriptRunContext! This warning can be ignored when running in bare mode.\n",
      "2025-07-15 19:03:52.929 Thread 'MainThread': missing ScriptRunContext! This warning can be ignored when running in bare mode.\n",
      "2025-07-15 19:03:52.930 Thread 'MainThread': missing ScriptRunContext! This warning can be ignored when running in bare mode.\n",
      "2025-07-15 19:03:52.932 Thread 'MainThread': missing ScriptRunContext! This warning can be ignored when running in bare mode.\n"
     ]
    }
   ],
   "source": [
    "def score_lead(row):\n",
    "    score = 0\n",
    "    \n",
    "    score += row['Revenue'] / 1_000_000\n",
    "    \n",
    "    industry_weights = {\n",
    "        'Tech': 10,\n",
    "        'Finance': 8,\n",
    "        'Health': 6,\n",
    "        'Retail': 4,\n",
    "        'Other': 2\n",
    "    }\n",
    "    score += industry_weights.get(row['Industry'], industry_weights['Other'])\n",
    "    \n",
    "    # Contact availability\n",
    "    score += 5 if row['Has_Email'] else 0\n",
    "    score += 5 if row['Has_Phone'] else 0\n",
    "    \n",
    "    return score\n"
   ]
  },
  {
   "cell_type": "code",
   "execution_count": null,
   "id": "8cd7c648-4c65-4210-a724-e97a6366b586",
   "metadata": {
    "scrolled": true
   },
   "outputs": [
    {
     "name": "stderr",
     "output_type": "stream",
     "text": [
      "2025-07-15 19:03:59.584 Thread 'MainThread': missing ScriptRunContext! This warning can be ignored when running in bare mode.\n",
      "2025-07-15 19:03:59.587 Thread 'MainThread': missing ScriptRunContext! This warning can be ignored when running in bare mode.\n",
      "2025-07-15 19:03:59.590 Thread 'MainThread': missing ScriptRunContext! This warning can be ignored when running in bare mode.\n"
     ]
    },
    {
     "data": {
      "text/plain": [
       "DeltaGenerator()"
      ]
     },
     "execution_count": 3,
     "metadata": {},
     "output_type": "execute_result"
    }
   ],
   "source": [
    "df['Lead_Score'] = df.apply(score_lead, axis=1)\n",
    "df_sorted = df.sort_values(by='Lead_Score', ascending=False).reset_index(drop=True)\n",
    "df_sorted"
   ]
  }
 ],
 "metadata": {
  "kernelspec": {
   "display_name": "venv",
   "language": "python",
   "name": "python3"
  },
  "language_info": {
   "codemirror_mode": {
    "name": "ipython",
    "version": 3
   },
   "file_extension": ".py",
   "mimetype": "text/x-python",
   "name": "python",
   "nbconvert_exporter": "python",
   "pygments_lexer": "ipython3",
   "version": "3.13.4"
  }
 },
 "nbformat": 4,
 "nbformat_minor": 5
}
